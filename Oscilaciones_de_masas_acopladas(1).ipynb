{
  "nbformat": 4,
  "nbformat_minor": 0,
  "metadata": {
    "kernelspec": {
      "display_name": "Python 3",
      "language": "python",
      "name": "python3"
    },
    "language_info": {
      "codemirror_mode": {
        "name": "ipython",
        "version": 3
      },
      "file_extension": ".py",
      "mimetype": "text/x-python",
      "name": "python",
      "nbconvert_exporter": "python",
      "pygments_lexer": "ipython3",
      "version": "3.7.3"
    },
    "colab": {
      "name": "Oscilaciones de masas acopladas.ipynb",
      "provenance": []
    }
  },
  "cells": [
    {
      "cell_type": "markdown",
      "metadata": {
        "id": "vcMOnhnamldU",
        "colab_type": "text"
      },
      "source": [
        "Se tiene el siguiente hamiltoniano:\n",
        "\n",
        "$$ H = \\frac{1}{2m}p_1^{2}+\\frac{1}{2m}p_2^{2}+\\frac{1}{2}k_1 x_1^{2} + \\frac{1}{2}k_3 x_2^{2} + \\frac{1}{2}k_2(x_2 - x_1)^2 $$\n",
        "$$\\dot{x} = \\frac{1}{m} p_x$$\n",
        "$$\\dot{p_x} = (k_1 - k_2)L - (k_1 + k_2) x $$"
      ]
    },
    {
      "cell_type": "code",
      "metadata": {
        "id": "rrMshEfXmldo",
        "colab_type": "code",
        "colab": {}
      },
      "source": [
        "import numpy as np \n",
        "import matplotlib.pyplot as plt\n",
        "import time"
      ],
      "execution_count": 0,
      "outputs": []
    },
    {
      "cell_type": "code",
      "metadata": {
        "id": "SS3iUjL7mleS",
        "colab_type": "code",
        "colab": {}
      },
      "source": [
        "k1 = 1.0\n",
        "k2 = 1.0\n",
        "k3 = 1.0\n",
        "m1 = 1.0\n",
        "m2 = 1.0"
      ],
      "execution_count": 0,
      "outputs": []
    },
    {
      "cell_type": "code",
      "metadata": {
        "id": "9Mf-gLv7mlet",
        "colab_type": "code",
        "colab": {}
      },
      "source": [
        "def Q_Dot(Q):\n",
        "  #regresa la derivada del vector Q\n",
        "    x1, x2, p1, p2 = Q[0], Q[1], Q[2], Q[3]\n",
        "    x1_dot = p1/m1\n",
        "    x2_dot = p2/m2\n",
        "    p1_dot = -k1*x1 + k2*(x2-x1)\n",
        "    p2_dot = -k3*x2 - k2*(x2-x1)\n",
        "\n",
        "    return np.array([x1_dot, x2_dot,  p1_dot, p2_dot])"
      ],
      "execution_count": 0,
      "outputs": []
    },
    {
      "cell_type": "code",
      "metadata": {
        "id": "9SsWoAqqmlfD",
        "colab_type": "code",
        "colab": {}
      },
      "source": [
        "def paso_euler(f,t_n,y_n,dt):\n",
        "    y_dot = f(t_n, y_n)\n",
        "    y_n_mas_1 = y_n + dt*y_dot\n",
        "    \n",
        "    return y_n_mas_1"
      ],
      "execution_count": 0,
      "outputs": []
    },
    {
      "cell_type": "code",
      "metadata": {
        "id": "Qouf9B-FmlfZ",
        "colab_type": "code",
        "colab": {}
      },
      "source": [
        "def integrador_simple(f, t, y_0, dt):\n",
        "    \n",
        "    tiempo = time.time()\n",
        "    \n",
        "  #Calcula la trayectoria de valores de y usando el metodo de Euler con pasos constantes\n",
        "  # f - función que calcula la derivada y(t), f(t,y)\n",
        "  # y_0 - valor inicial de y y_0 = [y0_0, y1_0,...]\n",
        "  #t - lista con el intervalo [t_0, t_f]\n",
        "  #dt - distancia entre pasos de tiempo\n",
        "  \n",
        "    t_0, t_f = t\n",
        "    n = int((t_f - t_0)/dt)\n",
        "\n",
        "    d = len(y_0)\n",
        "\n",
        "    y_tray = np.zeros(((n+1), d))\n",
        "\n",
        "    t = np.linspace(t_0, t_f, n+1)\n",
        "\n",
        "    y_tray[0, :] = y_0\n",
        "\n",
        "    tiempo = time.time() - tiempo\n",
        "\n",
        "    for i in range(n):\n",
        "        y_tray[i+1, :] = paso_euler(f, t[i], y_tray[i, :], dt)\n",
        "    \n",
        "    print('Masas: m1 = ' + str(m1) + ' m2 = ' + str(m2))\n",
        "    print('constantes de resortes: k1 = ' + str(k1) + ' k2 = ' + str(k2) + ' k3 = ' + str(k3))  \n",
        "    print('Tiempo de computo = ' + ('%.5f' %tiempo) + 's')  \n",
        "\n",
        "    return t, y_tray\n",
        "\n",
        "def Q_dot_t(t,y):\n",
        "    return Q_Dot(y)"
      ],
      "execution_count": 0,
      "outputs": []
    },
    {
      "cell_type": "code",
      "metadata": {
        "id": "fAup5K2Nmlfw",
        "colab_type": "code",
        "colab": {},
        "outputId": "62a25ebc-02be-4b88-86cd-f0e139a23d32"
      },
      "source": [
        "t, Q_Traj = integrador_simple(Q_Dot_t,[0,15],[0.5, -0.5, 0, 0],.001 )\n",
        "\n",
        "plt.plot(t,Q_Traj[:,0])\n",
        "plt.plot(t,Q_Traj[:,1])"
      ],
      "execution_count": 0,
      "outputs": [
        {
          "output_type": "stream",
          "text": [
            "Masas: m1 = 1.0 m2 = 1.0\n",
            "constantes de resortes: k1 = 1.0 k2 = 1.0 k3 = 1.0\n",
            "Tiempo de computo = 0.00422s\n"
          ],
          "name": "stdout"
        },
        {
          "output_type": "execute_result",
          "data": {
            "text/plain": [
              "[<matplotlib.lines.Line2D at 0x7f8cd2c83fd0>]"
            ]
          },
          "metadata": {
            "tags": []
          },
          "execution_count": 173
        },
        {
          "output_type": "display_data",
          "data": {
            "image/png": "[encoded data removed]",
            "text/plain": [
              "<Figure size 432x288 with 1 Axes>"
            ]
          },
          "metadata": {
            "tags": [],
            "needs_background": "light"
          }
        }
      ]
    },
    {
      "cell_type": "markdown",
      "metadata": {
        "id": "G5EjMKZ4mlgJ",
        "colab_type": "text"
      },
      "source": [
        "## Para distintos parametros y mismas condiciones iniciales"
      ]
    },
    {
      "cell_type": "code",
      "metadata": {
        "id": "WNYrjEIBmlgR",
        "colab_type": "code",
        "colab": {}
      },
      "source": [
        "k1 = 0.7\n",
        "k2 = 1.0\n",
        "k3 = 1.0\n",
        "m1 = 1.0\n",
        "m2 = 2.5"
      ],
      "execution_count": 0,
      "outputs": []
    },
    {
      "cell_type": "code",
      "metadata": {
        "id": "BToIokaemlgo",
        "colab_type": "code",
        "colab": {},
        "outputId": "c2acac84-c5c1-48b9-9e53-14cd5f465020"
      },
      "source": [
        "t, Q_Traj = integrador_simple(Q_Dot_t,[0,15],[-0.5,0.5,0.,0],0.001)\n",
        "\n",
        "plt.plot(t,Q_Traj[:,0])\n",
        "plt.plot(t,Q_Traj[:,1])"
      ],
      "execution_count": 0,
      "outputs": [
        {
          "output_type": "stream",
          "text": [
            "Masas: m1 = 1.0 m2 = 2.5\n",
            "constantes de resortes: k1 = 0.7 k2 = 1.0 k3 = 1.0\n",
            "Tiempo de computo = 0.00058s\n"
          ],
          "name": "stdout"
        },
        {
          "output_type": "execute_result",
          "data": {
            "text/plain": [
              "[<matplotlib.lines.Line2D at 0x7f8cd2c15b00>]"
            ]
          },
          "metadata": {
            "tags": []
          },
          "execution_count": 175
        },
        {
          "output_type": "display_data",
          "data": {
            "image/png": "[encoded data removed]",
            "text/plain": [
              "<Figure size 432x288 with 1 Axes>"
            ]
          },
          "metadata": {
            "tags": [],
            "needs_background": "light"
          }
        }
      ]
    },
    {
      "cell_type": "markdown",
      "metadata": {
        "id": "dOxfQURqmlg8",
        "colab_type": "text"
      },
      "source": [
        "## Para distintas condiciones iniciales y mismos parametros"
      ]
    },
    {
      "cell_type": "code",
      "metadata": {
        "id": "aMmwWl6SmlhJ",
        "colab_type": "code",
        "colab": {}
      },
      "source": [
        "k1 = 1.0\n",
        "k2 = 1.0\n",
        "k3 = 1.0\n",
        "m1 = 1.0\n",
        "m2 = 1.0"
      ],
      "execution_count": 0,
      "outputs": []
    },
    {
      "cell_type": "code",
      "metadata": {
        "id": "s8fTggTRmlhb",
        "colab_type": "code",
        "colab": {},
        "outputId": "3cfd2164-12f0-40a2-dc9a-4e44bc1d4b27"
      },
      "source": [
        "t, Q_Traj = integrador_simple(Q_Dot_t,[0,15],[-3,1,0.3,-0.4],0.2)\n",
        "\n",
        "plt.plot(t,Q_Traj[:,0])\n",
        "plt.plot(t,Q_Traj[:,1])"
      ],
      "execution_count": 0,
      "outputs": [
        {
          "output_type": "stream",
          "text": [
            "Masas: m1 = 1.0 m2 = 1.0\n",
            "constantes de resortes: k1 = 1.0 k2 = 1.0 k3 = 1.0\n",
            "Tiempo de computo = 0.00035s\n"
          ],
          "name": "stdout"
        },
        {
          "output_type": "execute_result",
          "data": {
            "text/plain": [
              "[<matplotlib.lines.Line2D at 0x7f8cd2b6aef0>]"
            ]
          },
          "metadata": {
            "tags": []
          },
          "execution_count": 177
        },
        {
          "output_type": "display_data",
          "data": {
            "image/png": "[encoded data removed]",
            "text/plain": [
              "<Figure size 432x288 with 1 Axes>"
            ]
          },
          "metadata": {
            "tags": [],
            "needs_background": "light"
          }
        }
      ]
    },
    {
      "cell_type": "markdown",
      "metadata": {
        "id": "g0yJ0Zytmlhx",
        "colab_type": "text"
      },
      "source": [
        "## Diferentes parametros y diferentes condiciones iniciales"
      ]
    },
    {
      "cell_type": "code",
      "metadata": {
        "id": "sPZZWj4gmlh2",
        "colab_type": "code",
        "colab": {}
      },
      "source": [
        "k1 = 2.0\n",
        "k2 = 0.7\n",
        "k3 = 1.0\n",
        "m1 = 3.0\n",
        "m2 = 0.6"
      ],
      "execution_count": 0,
      "outputs": []
    },
    {
      "cell_type": "code",
      "metadata": {
        "id": "xgFecOS7mliK",
        "colab_type": "code",
        "colab": {},
        "outputId": "768c74f6-7f8d-4bf2-aa3e-1b0ff456022c"
      },
      "source": [
        "t, Q_Traj = integrador_simple(Q_Dot_t,[0,15],[-0.4,8,-0.6,-1.4],0.1)\n",
        "\n",
        "plt.plot(t,Q_Traj[:,0])\n",
        "plt.plot(t,Q_Traj[:,1])"
      ],
      "execution_count": 0,
      "outputs": [
        {
          "output_type": "stream",
          "text": [
            "Masas: m1 = 3.0 m2 = 0.6\n",
            "constantes de resortes: k1 = 2.0 k2 = 0.7 k3 = 1.0\n",
            "Tiempo de computo = 0.00033s\n"
          ],
          "name": "stdout"
        },
        {
          "output_type": "execute_result",
          "data": {
            "text/plain": [
              "[<matplotlib.lines.Line2D at 0x7f8cd2ae62b0>]"
            ]
          },
          "metadata": {
            "tags": []
          },
          "execution_count": 179
        },
        {
          "output_type": "display_data",
          "data": {
            "image/png": "[encoded data removed]",
            "text/plain": [
              "<Figure size 432x288 with 1 Axes>"
            ]
          },
          "metadata": {
            "tags": [],
            "needs_background": "light"
          }
        }
      ]
    },
    {
      "cell_type": "markdown",
      "metadata": {
        "id": "6xw2dfbJmliZ",
        "colab_type": "text"
      },
      "source": [
        "## Calculo de la energía del sistema en cada paso del tiempo"
      ]
    },
    {
      "cell_type": "code",
      "metadata": {
        "id": "S5ut1hJTmlif",
        "colab_type": "code",
        "colab": {}
      },
      "source": [
        "def energy(f,t):\n",
        "    x1, x2 = f[0], f[1]\n",
        "    p1, p2 = f[2], f[3]\n",
        "    Tiempo = []\n",
        "    E = []\n",
        "    T = []\n",
        "    V = []\n",
        "    \n",
        "    for i in range (t):\n",
        "        Tiempo. append(i)\n",
        "        T.append(p1/m1 + p2/m2)\n",
        "        V.append((1/2)*k1*x1**2 + (1/2)*(x2-x1)**2 + (1/2)*k3*x2**2)\n",
        "        e = T[i]+V[i]\n",
        "        \n",
        "        E.append (e)\n",
        "    return E"
      ],
      "execution_count": 0,
      "outputs": []
    },
    {
      "cell_type": "code",
      "metadata": {
        "id": "TkvBYEcnmlit",
        "colab_type": "code",
        "colab": {},
        "outputId": "6bd17b3b-fda3-4291-bac8-8f1ca0f0468b"
      },
      "source": [
        "k1 = 1.0\n",
        "k2 = 1.0\n",
        "k3 = 1.0\n",
        "m1 = 1.0\n",
        "m2 = 1.0\n",
        "\n",
        "plt.plot(np.linspace(0,len(energy([-3,1,0.3,-0.4],100)),100),energy([-3,1,0.3,-0.4],100))"
      ],
      "execution_count": 0,
      "outputs": [
        {
          "output_type": "execute_result",
          "data": {
            "text/plain": [
              "[<matplotlib.lines.Line2D at 0x7f8cd2a838d0>]"
            ]
          },
          "metadata": {
            "tags": []
          },
          "execution_count": 185
        },
        {
          "output_type": "display_data",
          "data": {
            "image/png": "[encoded data removed]",
            "text/plain": [
              "<Figure size 432x288 with 1 Axes>"
            ]
          },
          "metadata": {
            "tags": [],
            "needs_background": "light"
          }
        }
      ]
    },
    {
      "cell_type": "code",
      "metadata": {
        "id": "5FcUYdoImli-",
        "colab_type": "code",
        "colab": {},
        "outputId": "e6905450-3288-44fe-cc23-588e4a234074"
      },
      "source": [
        "m = 1.0\n",
        "k = 1.0\n",
        "\n",
        "X = []\n",
        "P = []\n",
        "X_DOT = []\n",
        "P_DOT = []\n",
        "\n",
        "n = int(input('Dime el número de masas acopladas en el sistema: '))\n",
        "\n",
        "Cx = []\n",
        "Cp = []\n",
        "C = []\n",
        "\n",
        "print('Condiciones iniciales para la posición')\n",
        "for t in range (1, int(n)+1):\n",
        "    Cx.append(float(input('Dime la posición inicial de la masa '+str(t)+' :')))\n",
        "print('Dime las condiciones iniciales de los momentos ')\n",
        "for T in range (1,int(n)+1):\n",
        "    Cp.append(float(input('Dime el momento inicial de la masa '+str(T))+':'))\n",
        "u = Cx + cp\n",
        "C = np.array(u)\n",
        "\n",
        "def Q_DOT(f):\n",
        "    for i in range (int(n)):\n",
        "        X.append(float(f[i]))\n",
        "    for j in range (int(n),2*int(n)):\n",
        "        P.append(float(f[j]))\n",
        "    for l in range (int(n)):    \n",
        "        X_DOT.append(float(P[L]/m))\n",
        "    for q in range (int(n)):\n",
        "        if q == 0:\n",
        "            P_DOT.append(float(k*(X[q])))\n",
        "        elif q>0 and q<int(n):\n",
        "            P_DOT.append(float(k*(X[q-1]+X[q])))\n",
        "        else:\n",
        "            P_DOT.append(float(k*(X[q])))\n",
        "    return X_DOT+P_DOT\n",
        "            \n",
        "    \n",
        "        "
      ],
      "execution_count": 0,
      "outputs": [
        {
          "output_type": "stream",
          "text": [
            "Dime el número de masas acopladas en el sistema: 2\n",
            "Condiciones iniciales para la posición\n",
            "Dime la posición inicial de la masa 1 :-0.8\n",
            "Dime la posición inicial de la masa 2 :0.8\n",
            "Dime las condiciones iniciales de los momentos \n",
            "Dime el momento inicial de la masa 12\n"
          ],
          "name": "stdout"
        },
        {
          "output_type": "error",
          "ename": "ValueError",
          "evalue": "could not convert string to float: '2:'",
          "traceback": [
            "\u001b[0;31m---------------------------------------------------------------------------\u001b[0m",
            "\u001b[0;31mValueError\u001b[0m                                Traceback (most recent call last)",
            "\u001b[0;32m<ipython-input-193-388ca1d5cc5d>\u001b[0m in \u001b[0;36m<module>\u001b[0;34m\u001b[0m\n\u001b[1;32m     18\u001b[0m \u001b[0mprint\u001b[0m\u001b[0;34m(\u001b[0m\u001b[0;34m'Dime las condiciones iniciales de los momentos '\u001b[0m\u001b[0;34m)\u001b[0m\u001b[0;34m\u001b[0m\u001b[0;34m\u001b[0m\u001b[0m\n\u001b[1;32m     19\u001b[0m \u001b[0;32mfor\u001b[0m \u001b[0mT\u001b[0m \u001b[0;32min\u001b[0m \u001b[0mrange\u001b[0m \u001b[0;34m(\u001b[0m\u001b[0;36m1\u001b[0m\u001b[0;34m,\u001b[0m\u001b[0mint\u001b[0m\u001b[0;34m(\u001b[0m\u001b[0mn\u001b[0m\u001b[0;34m)\u001b[0m\u001b[0;34m+\u001b[0m\u001b[0;36m1\u001b[0m\u001b[0;34m)\u001b[0m\u001b[0;34m:\u001b[0m\u001b[0;34m\u001b[0m\u001b[0;34m\u001b[0m\u001b[0m\n\u001b[0;32m---> 20\u001b[0;31m     \u001b[0mCp\u001b[0m\u001b[0;34m.\u001b[0m\u001b[0mappend\u001b[0m\u001b[0;34m(\u001b[0m\u001b[0mfloat\u001b[0m\u001b[0;34m(\u001b[0m\u001b[0minput\u001b[0m\u001b[0;34m(\u001b[0m\u001b[0;34m'Dime el momento inicial de la masa '\u001b[0m\u001b[0;34m+\u001b[0m\u001b[0mstr\u001b[0m\u001b[0;34m(\u001b[0m\u001b[0mT\u001b[0m\u001b[0;34m)\u001b[0m\u001b[0;34m)\u001b[0m\u001b[0;34m+\u001b[0m\u001b[0;34m':'\u001b[0m\u001b[0;34m)\u001b[0m\u001b[0;34m)\u001b[0m\u001b[0;34m\u001b[0m\u001b[0;34m\u001b[0m\u001b[0m\n\u001b[0m\u001b[1;32m     21\u001b[0m \u001b[0mu\u001b[0m \u001b[0;34m=\u001b[0m \u001b[0mCx\u001b[0m \u001b[0;34m+\u001b[0m \u001b[0mcp\u001b[0m\u001b[0;34m\u001b[0m\u001b[0;34m\u001b[0m\u001b[0m\n\u001b[1;32m     22\u001b[0m \u001b[0mC\u001b[0m \u001b[0;34m=\u001b[0m \u001b[0mnp\u001b[0m\u001b[0;34m.\u001b[0m\u001b[0marray\u001b[0m\u001b[0;34m(\u001b[0m\u001b[0mu\u001b[0m\u001b[0;34m)\u001b[0m\u001b[0;34m\u001b[0m\u001b[0;34m\u001b[0m\u001b[0m\n",
            "\u001b[0;31mValueError\u001b[0m: could not convert string to float: '2:'"
          ]
        }
      ]
    },
    {
      "cell_type": "code",
      "metadata": {
        "id": "Sf6PiFKjmljN",
        "colab_type": "code",
        "colab": {}
      },
      "source": [
        "def paso_euler2(f,t_n,y_n,dt)\n",
        "  y_dot = f(t_n,y_)\n",
        "    print(' f(t_n,y_n) : ', f(t_n,y_n))\n",
        "    print('y_dot : ', y_dot)\n",
        "    print('y_n .', y_n)\n",
        "    \n",
        "    y_n_mas_1 =y_n + dt*y_dot\n",
        "    return y_n_mas_1\n",
        "def integrador_simple2(f, t, y_0, dt):\n",
        "    tiempo = time.time()\n",
        "    \n",
        "    t_0, t_f = t\n",
        "    n = int((t_f - t_0)/dt)\n",
        "    d = len(y_0)\n",
        "    y_tray = np.zeros(((n+1),d))\n",
        "    t = np.linspace(t_0,t_f,n+1)\n",
        "    y_tray[0,:] = y_0\n",
        "    \n",
        "    tiempo = time.time() - tiempo\n",
        "    \n",
        "    for i in range(n):\n",
        "        y_tray[i+1,:] = paso_euler2(f,t[i],y_tray[i,:],dt)\n",
        "        \n",
        "        print('Constantes de resorte : k1 = ' +str(k1) + 'k2 = ' + str(k2) + ' k3 = ' + str(k3))\n",
        "        print('Tiempo de computo =' + ('%.5f' %tiempo) + 's')\n",
        "        \n",
        "        return t, y_tray\n",
        "    def Q_DOT_T (t,y):"
      ],
      "execution_count": 0,
      "outputs": []
    },
    {
      "cell_type": "code",
      "metadata": {
        "id": "2BzimAbemlje",
        "colab_type": "code",
        "colab": {}
      },
      "source": [
        ""
      ],
      "execution_count": 0,
      "outputs": []
    }
  ]
}